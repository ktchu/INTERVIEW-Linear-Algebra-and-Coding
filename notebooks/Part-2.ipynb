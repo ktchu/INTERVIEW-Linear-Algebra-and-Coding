{
 "cells": [
  {
   "cell_type": "markdown",
   "id": "881e11b7-ac81-43e8-8f44-d8dadc5fd8a7",
   "metadata": {},
   "source": [
    "## Portfolio Optimization: Part 2"
   ]
  },
  {
   "cell_type": "markdown",
   "id": "f68ba9fd-b02b-4d4c-a4fa-e2985f29e207",
   "metadata": {},
   "source": [
    "### Available Data\n",
    "\n",
    "We are given the following information about a collection of assets:\n",
    "\n",
    "* $\\mu_i$: the average return for the $i$-th asset\n",
    "\n",
    "* $\\sigma_i^2$: the variance of the return for the $i$-th asset\n",
    "\n",
    "* $\\sigma_{ij}$: the covariance between the returns of the $i$-th and $j$-the asset. Note that $\\sigma_{ii} = \\sigma_i^2$."
   ]
  },
  {
   "cell_type": "markdown",
   "id": "9e06ca00-cc17-42e2-910a-4dbf67b9fd3a",
   "metadata": {},
   "source": [
    "### Model Variables\n",
    "\n",
    "* $r_i$: random variable representing the return on the $i$-th asset\n",
    "\n",
    "* $w_i$: weight (fraction) of $i$-th asset in a portfolio"
   ]
  },
  {
   "cell_type": "markdown",
   "id": "7ced27e1-7ea0-40a8-a7df-88234fa23625",
   "metadata": {},
   "source": [
    "### Problem 4\n",
    "\n",
    "Generate a plot of the optimal portfolio return vs risk tolerance $\\tau$."
   ]
  },
  {
   "cell_type": "markdown",
   "id": "449caee8-22c4-4c63-b3a7-c8aac0a40096",
   "metadata": {},
   "source": [
    "### Problem 2\n",
    "\n",
    "Write an expression for the expected return for the portfolio. "
   ]
  }
 ],
 "metadata": {
  "kernelspec": {
   "display_name": "Python 3",
   "language": "python",
   "name": "python3"
  },
  "language_info": {
   "codemirror_mode": {
    "name": "ipython",
    "version": 3
   },
   "file_extension": ".py",
   "mimetype": "text/x-python",
   "name": "python",
   "nbconvert_exporter": "python",
   "pygments_lexer": "ipython3",
   "version": "3.9.5"
  }
 },
 "nbformat": 4,
 "nbformat_minor": 5
}
