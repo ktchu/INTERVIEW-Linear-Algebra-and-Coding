{
 "cells": [
  {
   "cell_type": "markdown",
   "id": "881e11b7-ac81-43e8-8f44-d8dadc5fd8a7",
   "metadata": {},
   "source": [
    "## Portfolio Optimization: Part 1"
   ]
  },
  {
   "cell_type": "markdown",
   "id": "52d2cec6-0049-4089-8c2a-aa344fe66e38",
   "metadata": {},
   "source": [
    "### Terminology\n",
    "\n",
    "* __Return (Relative)__. The return on an asset over a time period is the relative change in the price of an asset from the beginning to the end of the time period. When the difference between the final and initial prices is small, the return may be computed as\n",
    "\n",
    "  $$\n",
    "    r = \\log \\left( \\frac{P_{final}}{P_{initial}} \\right)\n",
    "  $$\n",
    "\n",
    "* __Risk__. In quantiative finance, the variance and standard deviation of an asset's return are convenient (but not necessarily valid or accurate) measure of an assets riskiness. In financial parlance, the standard deviation of an asset's return is known as _volatility_."
   ]
  },
  {
   "cell_type": "markdown",
   "id": "c71b82cf-cbf1-452e-afd1-b79f9b15b8ef",
   "metadata": {},
   "source": [
    "### Available Data\n",
    "\n",
    "We are given the following information about a collection of assets:\n",
    "\n",
    "* $\\mu_i$: the average return for the $i$-th asset\n",
    "\n",
    "* $\\sigma_i^2$: the variance of the return for the $i$-th asset\n",
    "\n",
    "* $\\sigma_{ij}$: the covariance between the returns of the $i$-th and $j$-the asset. Note that $\\sigma_{ii} = \\sigma_i^2$."
   ]
  },
  {
   "cell_type": "markdown",
   "id": "32f07970-141d-4b4c-b175-2a98d968103e",
   "metadata": {},
   "source": [
    "### Model Variables\n",
    "\n",
    "* $r_i$: random variable representing the return on the $i$-th asset\n",
    "\n",
    "* $w_i$: weight (fraction) of $i$-th asset in a portfolio"
   ]
  },
  {
   "cell_type": "markdown",
   "id": "7ced27e1-7ea0-40a8-a7df-88234fa23625",
   "metadata": {},
   "source": [
    "### Problem 1\n",
    "\n",
    "Suppose we have portfolio of assets where each asset has weight $w_i$. If there are $n$ assets in a portfolio, the portfolio return and variance are:\n",
    "\n",
    "$$\n",
    "r_p = \\sum_i^n r_i w_i\n",
    "$$ \n",
    "\n",
    "$$\n",
    "\\sigma_p^2 = \\sum_i^n \\sum_j^n \\sigma_{ij} w_i w_j\n",
    "$$ \n",
    "\n",
    "Express both of these sums in matrix form."
   ]
  },
  {
   "cell_type": "markdown",
   "id": "449caee8-22c4-4c63-b3a7-c8aac0a40096",
   "metadata": {},
   "source": [
    "### Problem 2\n",
    "\n",
    "Write an expression for the expected return for the portfolio. "
   ]
  },
  {
   "cell_type": "markdown",
   "id": "f497f11a-0725-4e90-b0df-d30d1f240f8f",
   "metadata": {},
   "source": [
    "### Problem 3\n",
    "\n",
    "For risk tolerance level $\\tau$, derive a matrix equation for the portfolio that optimizes return-risk objective\n",
    "\n",
    "$$\n",
    "  f(w_1, w_2, \\ldots, w_n) = r_p - \\frac{\\tau}{2} \\sigma_p^2\n",
    "$$\n",
    "\n",
    "subject to the constraint $\\sum_i^n w_i = 1$."
   ]
  }
 ],
 "metadata": {
  "kernelspec": {
   "display_name": "Python 3",
   "language": "python",
   "name": "python3"
  },
  "language_info": {
   "codemirror_mode": {
    "name": "ipython",
    "version": 3
   },
   "file_extension": ".py",
   "mimetype": "text/x-python",
   "name": "python",
   "nbconvert_exporter": "python",
   "pygments_lexer": "ipython3",
   "version": "3.9.5"
  }
 },
 "nbformat": 4,
 "nbformat_minor": 5
}
