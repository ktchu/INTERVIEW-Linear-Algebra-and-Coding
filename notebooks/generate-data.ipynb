{
 "cells": [
  {
   "cell_type": "markdown",
   "id": "c40d6a54-4011-4a01-ad42-c01b6438f3fc",
   "metadata": {},
   "source": [
    "## Generate Datasets\n",
    "\n",
    "_Last Updated_: 2021/06/24\n",
    "\n",
    "### Authors\n",
    "* Kevin Chu (kevin@velexi.com)\n",
    "\n",
    "### Overview\n",
    "This Jupyter notebook generates synthetic return means and covariances for a collection of assets.\n",
    "\n",
    "### User Parameters\n",
    "\n",
    "#### Dataset parameters\n",
    "* num_assets: number of assets in portfolio"
   ]
  },
  {
   "cell_type": "markdown",
   "id": "46929cff-6517-4292-a32d-f51bc753d84c",
   "metadata": {},
   "source": [
    "### Preparations"
   ]
  },
  {
   "cell_type": "code",
   "execution_count": 1,
   "id": "984e3270-a0f2-46d8-9711-2a396c9a6eaa",
   "metadata": {},
   "outputs": [],
   "source": [
    "# --- User Parameters\n",
    "\n",
    "num_assets = 100"
   ]
  },
  {
   "cell_type": "code",
   "execution_count": 2,
   "id": "1eed13f7-37c8-43a5-bca3-6402f0957158",
   "metadata": {},
   "outputs": [],
   "source": [
    "# --- Imports\n",
    "\n",
    "# Standard library\n",
    "import os\n",
    "import pickle\n",
    "\n",
    "# External packages\n",
    "import numpy as np"
   ]
  },
  {
   "cell_type": "markdown",
   "id": "cecd401e-cece-4d88-b03e-ebbbd060812d",
   "metadata": {},
   "source": [
    "### Generate Dataset"
   ]
  },
  {
   "cell_type": "code",
   "execution_count": 3,
   "id": "19823985-39a4-430b-be39-4a9c62f5982c",
   "metadata": {},
   "outputs": [],
   "source": [
    "# --- Generate mean returns\n",
    "\n",
    "return_means = 0.1 * np.random.randn(num_assets)\n",
    "\n",
    "# --- Generate covariance\n",
    "\n",
    "return_covariances = 0.025 * np.random.randn(num_assets, num_assets)"
   ]
  },
  {
   "cell_type": "code",
   "execution_count": 4,
   "id": "7116f63d-8de0-42c5-be54-3bf805dde2cb",
   "metadata": {},
   "outputs": [],
   "source": [
    "# --- Save datasets as pickle files\n",
    "\n",
    "return_means_path = os.path.join(\"..\", \"data\", \"means.pkl\")\n",
    "with open(return_means_path, \"wb\") as file_:\n",
    "    pickle.dump(return_means, file_)\n",
    "\n",
    "return_covariances_path = os.path.join(\"..\", \"data\", \"covariances.pkl\")\n",
    "with open(return_covariances_path, \"wb\") as file_:\n",
    "    pickle.dump(return_covariances, file_)"
   ]
  },
  {
   "cell_type": "code",
   "execution_count": 5,
   "id": "0da2c9ff-7a70-49b0-8b18-9644a0049c01",
   "metadata": {},
   "outputs": [
    {
     "name": "stdout",
     "output_type": "stream",
     "text": [
      "mu.shape = (100,)\n",
      "covariances.shape = (100, 100)\n"
     ]
    }
   ],
   "source": [
    "# --- Test pickle file loading\n",
    "\n",
    "with open(return_means_path, \"rb\") as file_:\n",
    "    mu = pickle.load(file_)\n",
    "\n",
    "print(f\"mu.shape = {mu.shape}\")\n",
    "\n",
    "with open(return_covariances_path, \"rb\") as file_:\n",
    "    covariances = pickle.load(file_)\n",
    "\n",
    "print(f\"covariances.shape = {covariances.shape}\")"
   ]
  }
 ],
 "metadata": {
  "kernelspec": {
   "display_name": "Python 3",
   "language": "python",
   "name": "python3"
  },
  "language_info": {
   "codemirror_mode": {
    "name": "ipython",
    "version": 3
   },
   "file_extension": ".py",
   "mimetype": "text/x-python",
   "name": "python",
   "nbconvert_exporter": "python",
   "pygments_lexer": "ipython3",
   "version": "3.9.5"
  }
 },
 "nbformat": 4,
 "nbformat_minor": 5
}
